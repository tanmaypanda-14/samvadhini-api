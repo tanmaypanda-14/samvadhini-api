{
 "cells": [
  {
   "cell_type": "code",
   "execution_count": null,
   "metadata": {},
   "outputs": [],
   "source": [
    "import requests\n",
    "import json"
   ]
  },
  {
   "cell_type": "code",
   "execution_count": 2,
   "metadata": {},
   "outputs": [
    {
     "data": {
      "text/plain": [
       "'{\\n  \"answers\": [\\n    {\\n      \"answer\": \"withheld\", \\n      \"context\": \"My result is not visible on ERP. It says Result is withheld. Contact Examination Department. What is the reason?\", \\n      \"document_id\": \"160b45001a3d3c2733a75427d43f68ba\", \\n      \"meta\": {\\n        \"answer\": \" This message occurs because your result is withheld due to non-submission of eligibility documents, outstanding fees, etc. You need to contact student section for further clarification.\", \\n        \"category\": \"Result related queries\"\\n      }, \\n      \"offsets_in_context\": [\\n        {\\n          \"end\": 59, \\n          \"start\": 51\\n        }\\n      ], \\n      \"offsets_in_document\": [\\n        {\\n          \"end\": 59, \\n          \"start\": 51\\n        }\\n      ], \\n      \"score\": 0.0014718259772052988, \\n      \"type\": \"extractive\"\\n    }, \\n    {\\n      \"answer\": \"Father\\'s Name/Mother\\'s name is incorrect on grade card.\", \\n      \"context\": \"My name/Father\\'s Name/Mother\\'s name is incorrect on grade card. How do I get it corrected?\", \\n      \"document_id\": \"abe3ea9dd73859fa38d968e8665e71e9\", \\n      \"meta\": {\\n        \"answer\": \" Name correction on grade cards/PDC needs to be done in ERP at the office of student section of your Department. Kindly contact the office of student section for the making the required corrections in ERP. Moreover, student must check his/her personal details from time to time in their ERP login.\", \\n        \"category\": \"Corrections on grade card /PDC\"\\n      }, \\n      \"offsets_in_context\": [\\n        {\\n          \"end\": 63, \\n          \"start\": 8\\n        }\\n      ], \\n      \"offsets_in_document\": [\\n        {\\n          \"end\": 63, \\n          \"start\": 8\\n        }\\n      ], \\n      \"score\": 0.0007298868149518967, \\n      \"type\": \"extractive\"\\n    }, \\n    {\\n      \"answer\": \"consolidated grade card\", \\n      \"context\": \"What is a consolidated grade card?\", \\n      \"document_id\": \"b18f5e3cf09c55e3b71f12e27d114992\", \\n      \"meta\": {\\n        \"answer\": \" A consolidated grade card will show consolidated result of a trimester (Regular & cleared backlog together).It shows revised GPA for that trimester. However, note that CGPA is not mentioned.\", \\n        \"category\": \"Consolidated grade card\"\\n      }, \\n      \"offsets_in_context\": [\\n        {\\n          \"end\": 33, \\n          \"start\": 10\\n        }\\n      ], \\n      \"offsets_in_document\": [\\n        {\\n          \"end\": 33, \\n          \"start\": 10\\n        }\\n      ], \\n      \"score\": 0.000534880644408986, \\n      \"type\": \"extractive\"\\n    }, \\n    {\\n      \"answer\": \"payment\", \\n      \"context\": \"What is the mode of payment for Duplicate grade card?\", \\n      \"document_id\": \"cf8326445a8538fdf86dadb7e707cdbd\", \\n      \"meta\": {\\n        \"answer\": \"You  must  pay  online.  Payment  details  are  mentioned  on  website (https://mitwpu.edu.in/examination).   Send   the   screenshot   of   payment   to exam.helpdesk@mitwpu.edu.in.\", \\n        \"category\": \"Duplicate Grade Card\"\\n      }, \\n      \"offsets_in_context\": [\\n        {\\n          \"end\": 27, \\n          \"start\": 20\\n        }\\n      ], \\n      \"offsets_in_document\": [\\n        {\\n          \"end\": 27, \\n          \"start\": 20\\n        }\\n      ], \\n      \"score\": 0.0003276017705502454, \\n      \"type\": \"extractive\"\\n    }, \\n    {\\n      \"answer\": \"send the transcript to WES, Canada\", \\n      \"context\": \"I want the University to send the transcript to WES, Canada ? What is the procedure for it?\", \\n      \"document_id\": \"afca264354d00087f59e08eea7672d2a\", \\n      \"meta\": {\\n        \"answer\": \"Postal charges to Canada Rs.1600/-. Do payment online .Payment details mentioned on website.(https://mitwpu.edu.in/examination/contact). Send duly filled WES form and WES reference number and send screenshot of payment to exam.helpdesk@mitwpu.edu.in.MITSOB Transcripts to WESQs. I am a student of MITSOB. I want a transcript. What is the procedure?\", \\n        \"category\": \"MITSOB Transripts to WES\"\\n      }, \\n      \"offsets_in_context\": [\\n        {\\n          \"end\": 59, \\n          \"start\": 25\\n        }\\n      ], \\n      \"offsets_in_document\": [\\n        {\\n          \"end\": 59, \\n          \"start\": 25\\n        }\\n      ], \\n      \"score\": 0.0002984718303196132, \\n      \"type\": \"extractive\"\\n    }\\n  ], \\n  \"documents\": [\\n    {\\n      \"content\": \"My name/Father\\'s Name/Mother\\'s name is incorrect on grade card. How do I get it corrected?\", \\n      \"content_type\": \"text\", \\n      \"embedding\": null, \\n      \"id\": \"abe3ea9dd73859fa38d968e8665e71e9\", \\n      \"meta\": {\\n        \"answer\": \" Name correction on grade cards/PDC needs to be done in ERP at the office of student section of your Department. Kindly contact the office of student section for the making the required corrections in ERP. Moreover, student must check his/her personal details from time to time in their ERP login.\", \\n        \"category\": \"Corrections on grade card /PDC\"\\n      }, \\n      \"score\": null\\n    }, \\n    {\\n      \"content\": \"What is a consolidated grade card?\", \\n      \"content_type\": \"text\", \\n      \"embedding\": null, \\n      \"id\": \"b18f5e3cf09c55e3b71f12e27d114992\", \\n      \"meta\": {\\n        \"answer\": \" A consolidated grade card will show consolidated result of a trimester (Regular & cleared backlog together).It shows revised GPA for that trimester. However, note that CGPA is not mentioned.\", \\n        \"category\": \"Consolidated grade card\"\\n      }, \\n      \"score\": null\\n    }, \\n    {\\n      \"content\": \"What is the mode of payment for Duplicate grade card?\", \\n      \"content_type\": \"text\", \\n      \"embedding\": null, \\n      \"id\": \"cf8326445a8538fdf86dadb7e707cdbd\", \\n      \"meta\": {\\n        \"answer\": \"You  must  pay  online.  Payment  details  are  mentioned  on  website (https://mitwpu.edu.in/examination).   Send   the   screenshot   of   payment   to exam.helpdesk@mitwpu.edu.in.\", \\n        \"category\": \"Duplicate Grade Card\"\\n      }, \\n      \"score\": null\\n    }, \\n    {\\n      \"content\": \"What is the mode of payment for consolidated grade card?\", \\n      \"content_type\": \"text\", \\n      \"embedding\": null, \\n      \"id\": \"89a479636c774f6c118a70342ad2335\", \\n      \"meta\": {\\n        \"answer\": \"You  must  pay  online.  Payment  details  are  mentioned  on  website (https://mitwpu.edu.in/examination).   Send   the   screenshot   of   payment   to exam.helpdesk@mitwpu.edu.in.Q When and how will I receive the consolidated grade card?\", \\n        \"category\": \"Consolidated grade card\"\\n      }, \\n      \"score\": null\\n    }, \\n    {\\n      \"content\": \"My result is not visible on ERP. It says Result is withheld. Contact Examination Department. What is the reason?\", \\n      \"content_type\": \"text\", \\n      \"embedding\": null, \\n      \"id\": \"160b45001a3d3c2733a75427d43f68ba\", \\n      \"meta\": {\\n        \"answer\": \" This message occurs because your result is withheld due to non-submission of eligibility documents, outstanding fees, etc. You need to contact student section for further clarification.\", \\n        \"category\": \"Result related queries\"\\n      }, \\n      \"score\": null\\n    }, \\n    {\\n      \"content\": \"Can I get backlog and regular result on a single grade card?\", \\n      \"content_type\": \"text\", \\n      \"embedding\": null, \\n      \"id\": \"258363ac7fe342091c25f03ed5aaa049\", \\n      \"meta\": {\\n        \"answer\": \" Yes, you can apply for a consolidated grade card.\", \\n        \"category\": \"Consolidated grade card\"\\n      }, \\n      \"score\": null\\n    }, \\n    {\\n      \"content\": \"How is a Consolidated Grade Card different from a transcript?\", \\n      \"content_type\": \"text\", \\n      \"embedding\": null, \\n      \"id\": \"d6b8c043489796a02467f5792b3561e3\", \\n      \"meta\": {\\n        \"answer\": \"Consolidated grade card shows revised result of only one trimester with revised GPA where as a transcript is a document that includes updated results of all trimesters with revised GPA and CGPA trimester wise.\", \\n        \"category\": \"Consolidated grade card\"\\n      }, \\n      \"score\": null\\n    }, \\n    {\\n      \"content\": \"What are the charges for obtaining a duplicate grade card?\", \\n      \"content_type\": \"text\", \\n      \"embedding\": null, \\n      \"id\": \"c551685741d1fe3c64a731426126e86b\", \\n      \"meta\": {\\n        \"answer\": \"Fee of Rs.500/- + Rs. 100/- per trimester grade card.\", \\n        \"category\": \"Duplicate Grade Card\"\\n      }, \\n      \"score\": null\\n    }, \\n    {\\n      \"content\": \"What are the charges for obtaining a consolidated grade card?\", \\n      \"content_type\": \"text\", \\n      \"embedding\": null, \\n      \"id\": \"95c07b240bc4c20abb1a114e0c635d91\", \\n      \"meta\": {\\n        \"answer\": \"Processing fee for one consolidated grade card is Rs.200/-\", \\n        \"category\": \"Consolidated grade card\"\\n      }, \\n      \"score\": null\\n    }, \\n    {\\n      \"content\": \"I want the University to send the transcript to WES, Canada ? What is the procedure for it?\", \\n      \"content_type\": \"text\", \\n      \"embedding\": null, \\n      \"id\": \"afca264354d00087f59e08eea7672d2a\", \\n      \"meta\": {\\n        \"answer\": \"Postal charges to Canada Rs.1600/-. Do payment online .Payment details mentioned on website.(https://mitwpu.edu.in/examination/contact). Send duly filled WES form and WES reference number and send screenshot of payment to exam.helpdesk@mitwpu.edu.in.MITSOB Transcripts to WESQs. I am a student of MITSOB. I want a transcript. What is the procedure?\", \\n        \"category\": \"MITSOB Transripts to WES\"\\n      }, \\n      \"score\": null\\n    }\\n  ], \\n  \"no_ans_gap\": -14.055252075195312, \\n  \"node_id\": \"Reader\", \\n  \"params\": {\\n    \"Reader\": {\\n      \"top_k\": 5\\n    }, \\n    \"Retriever\": {\\n      \"top_k\": 10\\n    }\\n  }, \\n  \"query\": \"The father\\'s name is incorrect on the credit card\", \\n  \"root_node\": \"Query\"\\n}\\n'"
      ]
     },
     "execution_count": 2,
     "metadata": {},
     "output_type": "execute_result"
    }
   ],
   "source": [
    "r=requests.post(\"http://127.0.0.1:5000/query\",data=json.dumps({\"msg\":\"वडिलांचा नाव कार्डवर चुकीचा आहे\"}), headers={\"Content-Type\":\"application/json\"})\n",
    "r.text"
   ]
  }
 ],
 "metadata": {
  "interpreter": {
   "hash": "45b368e6785e2cd5a7c775a810fd9753e06e1e4502f9915972042ae44a9ccaf7"
  },
  "kernelspec": {
   "display_name": "Python 3.9.12 ('haystack')",
   "language": "python",
   "name": "python3"
  },
  "language_info": {
   "codemirror_mode": {
    "name": "ipython",
    "version": 3
   },
   "file_extension": ".py",
   "mimetype": "text/x-python",
   "name": "python",
   "nbconvert_exporter": "python",
   "pygments_lexer": "ipython3",
   "version": "3.9.12"
  },
  "orig_nbformat": 4
 },
 "nbformat": 4,
 "nbformat_minor": 2
}
